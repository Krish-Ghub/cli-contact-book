{
 "cells": [
  {
   "cell_type": "code",
   "execution_count": null,
   "id": "8ef3aca3-7a24-43f0-ade1-58d518e84189",
   "metadata": {},
   "outputs": [],
   "source": [
    "# part a\n",
    "dictn = {}\n",
    "inp = input(\"enter the operation you want to perform : \")\n",
    "# part a ended\n",
    "# part b\n",
    "def add(name, num):\n",
    "    if name in dictn:\n",
    "        dictn[name].append(num)\n",
    "    else:\n",
    "        dictn[name] = [num]\n",
    "\n",
    "def delete(name):\n",
    "    if name in dictn:\n",
    "        del dictn[name]\n",
    "    else:\n",
    "        print(f\"{name} not found in the dictionary.\")\n",
    "\n",
    "def search(name):\n",
    "    if name in dictn:\n",
    "        print(f\"{name} is found with values: {dictn[name]}\")\n",
    "    else:\n",
    "        print(f\"{name} not found in the dictionary.\")\n",
    "\n",
    "def prin():\n",
    "    print(dictn)\n",
    "# part b ended\n",
    "# part c \n",
    "while inp != \"exit\":\n",
    "    if inp == \"add\":\n",
    "        name = input(\"enter the name you want to add : \")\n",
    "        num = int(input(\"enter the number you want to add : \"))\n",
    "        add(name, num)\n",
    "    elif inp == \"search\":\n",
    "        name = input(\"enter the name you want to search : \")\n",
    "        search(name)\n",
    "    elif inp == \"delete\":\n",
    "        name = input(\"enter the name you want to delete the contact for : \")\n",
    "        delete(name)\n",
    "    elif inp == \"print\":\n",
    "        prin()\n",
    "    else:\n",
    "        print(\"Invalid operation.\")\n",
    "#part c ended\n",
    "    inp = input(\"enter the operation you want to perform : \")\n"
   ]
  }
 ],
 "metadata": {
  "kernelspec": {
   "display_name": "Python [conda env:base] *",
   "language": "python",
   "name": "conda-base-py"
  },
  "language_info": {
   "codemirror_mode": {
    "name": "ipython",
    "version": 3
   },
   "file_extension": ".py",
   "mimetype": "text/x-python",
   "name": "python",
   "nbconvert_exporter": "python",
   "pygments_lexer": "ipython3",
   "version": "3.12.7"
  }
 },
 "nbformat": 4,
 "nbformat_minor": 5
}
